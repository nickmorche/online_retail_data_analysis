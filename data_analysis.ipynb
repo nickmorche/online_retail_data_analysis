{
 "cells": [
  {
   "cell_type": "markdown",
   "metadata": {},
   "source": [
    "# Carregando os dados"
   ]
  },
  {
   "cell_type": "code",
   "execution_count": 33,
   "metadata": {},
   "outputs": [],
   "source": [
    "import pandas as pd\n",
    "import matplotlib.pyplot as plt"
   ]
  },
  {
   "cell_type": "code",
   "execution_count": 3,
   "metadata": {},
   "outputs": [
    {
     "name": "stdout",
     "output_type": "stream",
     "text": [
      "CPU times: total: 2min 2s\n",
      "Wall time: 2min 13s\n"
     ]
    }
   ],
   "source": [
    "%%time\n",
    "transactions_2009_2010 = pd.read_excel('../online_retail_II.xlsx',sheet_name=\"Year 2009-2010\", engine='openpyxl')\n",
    "transactions_2010_2011= pd.read_excel('../online_retail_II.xlsx',sheet_name=\"Year 2010-2011\", engine='openpyxl')"
   ]
  },
  {
   "cell_type": "code",
   "execution_count": 4,
   "metadata": {},
   "outputs": [
    {
     "name": "stdout",
     "output_type": "stream",
     "text": [
      "(1067371, 8)\n"
     ]
    }
   ],
   "source": [
    "# Concatenar os DataFrames (empilhar as linhas)\n",
    "transactions = pd.concat([transactions_2009_2010, transactions_2010_2011], ignore_index=True)\n",
    "\n",
    "# Exibir as primeiras linhas do DataFrame combinado\n",
    "print(transactions.shape)"
   ]
  },
  {
   "cell_type": "code",
   "execution_count": 5,
   "metadata": {},
   "outputs": [
    {
     "data": {
      "text/html": [
       "<div>\n",
       "<style scoped>\n",
       "    .dataframe tbody tr th:only-of-type {\n",
       "        vertical-align: middle;\n",
       "    }\n",
       "\n",
       "    .dataframe tbody tr th {\n",
       "        vertical-align: top;\n",
       "    }\n",
       "\n",
       "    .dataframe thead th {\n",
       "        text-align: right;\n",
       "    }\n",
       "</style>\n",
       "<table border=\"1\" class=\"dataframe\">\n",
       "  <thead>\n",
       "    <tr style=\"text-align: right;\">\n",
       "      <th></th>\n",
       "      <th>Invoice</th>\n",
       "      <th>StockCode</th>\n",
       "      <th>Description</th>\n",
       "      <th>Quantity</th>\n",
       "      <th>InvoiceDate</th>\n",
       "      <th>Price</th>\n",
       "      <th>Customer ID</th>\n",
       "      <th>Country</th>\n",
       "    </tr>\n",
       "  </thead>\n",
       "  <tbody>\n",
       "    <tr>\n",
       "      <th>0</th>\n",
       "      <td>489434</td>\n",
       "      <td>85048</td>\n",
       "      <td>15CM CHRISTMAS GLASS BALL 20 LIGHTS</td>\n",
       "      <td>12</td>\n",
       "      <td>2009-12-01 07:45:00</td>\n",
       "      <td>6.95</td>\n",
       "      <td>13085.0</td>\n",
       "      <td>United Kingdom</td>\n",
       "    </tr>\n",
       "    <tr>\n",
       "      <th>1</th>\n",
       "      <td>489434</td>\n",
       "      <td>79323P</td>\n",
       "      <td>PINK CHERRY LIGHTS</td>\n",
       "      <td>12</td>\n",
       "      <td>2009-12-01 07:45:00</td>\n",
       "      <td>6.75</td>\n",
       "      <td>13085.0</td>\n",
       "      <td>United Kingdom</td>\n",
       "    </tr>\n",
       "    <tr>\n",
       "      <th>2</th>\n",
       "      <td>489434</td>\n",
       "      <td>79323W</td>\n",
       "      <td>WHITE CHERRY LIGHTS</td>\n",
       "      <td>12</td>\n",
       "      <td>2009-12-01 07:45:00</td>\n",
       "      <td>6.75</td>\n",
       "      <td>13085.0</td>\n",
       "      <td>United Kingdom</td>\n",
       "    </tr>\n",
       "    <tr>\n",
       "      <th>3</th>\n",
       "      <td>489434</td>\n",
       "      <td>22041</td>\n",
       "      <td>RECORD FRAME 7\" SINGLE SIZE</td>\n",
       "      <td>48</td>\n",
       "      <td>2009-12-01 07:45:00</td>\n",
       "      <td>2.10</td>\n",
       "      <td>13085.0</td>\n",
       "      <td>United Kingdom</td>\n",
       "    </tr>\n",
       "    <tr>\n",
       "      <th>4</th>\n",
       "      <td>489434</td>\n",
       "      <td>21232</td>\n",
       "      <td>STRAWBERRY CERAMIC TRINKET BOX</td>\n",
       "      <td>24</td>\n",
       "      <td>2009-12-01 07:45:00</td>\n",
       "      <td>1.25</td>\n",
       "      <td>13085.0</td>\n",
       "      <td>United Kingdom</td>\n",
       "    </tr>\n",
       "  </tbody>\n",
       "</table>\n",
       "</div>"
      ],
      "text/plain": [
       "  Invoice StockCode                          Description  Quantity  \\\n",
       "0  489434     85048  15CM CHRISTMAS GLASS BALL 20 LIGHTS        12   \n",
       "1  489434    79323P                   PINK CHERRY LIGHTS        12   \n",
       "2  489434    79323W                  WHITE CHERRY LIGHTS        12   \n",
       "3  489434     22041         RECORD FRAME 7\" SINGLE SIZE         48   \n",
       "4  489434     21232       STRAWBERRY CERAMIC TRINKET BOX        24   \n",
       "\n",
       "          InvoiceDate  Price  Customer ID         Country  \n",
       "0 2009-12-01 07:45:00   6.95      13085.0  United Kingdom  \n",
       "1 2009-12-01 07:45:00   6.75      13085.0  United Kingdom  \n",
       "2 2009-12-01 07:45:00   6.75      13085.0  United Kingdom  \n",
       "3 2009-12-01 07:45:00   2.10      13085.0  United Kingdom  \n",
       "4 2009-12-01 07:45:00   1.25      13085.0  United Kingdom  "
      ]
     },
     "execution_count": 5,
     "metadata": {},
     "output_type": "execute_result"
    }
   ],
   "source": [
    "transactions.head()"
   ]
  },
  {
   "cell_type": "markdown",
   "metadata": {},
   "source": [
    "# Limpeza de Dados"
   ]
  },
  {
   "cell_type": "code",
   "execution_count": 6,
   "metadata": {},
   "outputs": [],
   "source": [
    "# Verificando valores ausentes\n",
    "transactions.isna().sum()\n",
    "\n",
    "transactions['isCancelled'] = transactions['Invoice'][0]\n",
    "\n",
    "# Verificando valores númericos\n",
    "transactions['Invoice'] = pd.to_numeric(transactions['Invoice'], errors='coerce')\n",
    "\n",
    "transactions['InvoiceDate'] = pd.to_datetime(transactions['InvoiceDate'])"
   ]
  },
  {
   "cell_type": "markdown",
   "metadata": {},
   "source": [
    "# Análise de Dados Básicos"
   ]
  },
  {
   "cell_type": "code",
   "execution_count": 29,
   "metadata": {},
   "outputs": [
    {
     "name": "stdout",
     "output_type": "stream",
     "text": [
      "                             Description  Quantity\n",
      "5388   WORLD WAR 2 GLIDERS ASSTD DESIGNS    108545\n",
      "5266  WHITE HANGING HEART T-LIGHT HOLDER     93050\n",
      "328        ASSORTED COLOUR BIRD ORNAMENT     81306\n",
      "2508             JUMBO BAG RED RETROSPOT     78090\n",
      "801                  BROCADE RING PURSE      70700\n",
      "3204  PACK OF 60 PINK PAISLEY CAKE CASES     56575\n",
      "168          60 TEATIME FAIRY CAKE CASES     54366\n",
      "4706                SMALL POPCORN HOLDER     49616\n",
      "3207     PACK OF 72 RETROSPOT CAKE CASES     49344\n",
      "3206    PACK OF 72 RETRO SPOT CAKE CASES     46106\n"
     ]
    }
   ],
   "source": [
    "# Adiciona a coluna ano\n",
    "transactions['ano'] = transactions['InvoiceDate'].dt.year\n",
    "\n",
    "transactions['mes'] = transactions['InvoiceDate'].dt.month\n",
    "\n",
    "transactions['dia'] = transactions['InvoiceDate'].dt.day\n",
    "\n",
    "transactions['semana_mes'] = transactions['InvoiceDate'].dt.isocalendar().week\n",
    "\n",
    "# Remove as transações canceladas\n",
    "transactions_filtered = transactions[~transactions['Invoice'].astype(str).str.contains('C', na=False)]\n",
    "\n",
    "# Agrupoar por produto e somar as quantidades vendidas\n",
    "top_products = transactions_filtered.groupby('Description')['Quantity'].sum().reset_index()\n",
    "\n",
    "# Ordenar do mais vendido para o menos vendido\n",
    "top_products = top_products.sort_values(by='Quantity', ascending=False)\n",
    "\n",
    "# Mostra os 10 produtos mais vendidos nos 4 anos\n",
    "print(top_products.head(10))"
   ]
  },
  {
   "cell_type": "code",
   "execution_count": 8,
   "metadata": {},
   "outputs": [
    {
     "data": {
      "text/plain": [
       "45331"
      ]
     },
     "execution_count": 8,
     "metadata": {},
     "output_type": "execute_result"
    }
   ],
   "source": [
    "# Mostrar o total de vendas\n",
    "transactions_filtered['Invoice'].unique().shape[0]"
   ]
  },
  {
   "cell_type": "markdown",
   "metadata": {},
   "source": [
    "# Total de vendas por tempo(diário, semanal, mensal)"
   ]
  },
  {
   "cell_type": "code",
   "execution_count": 20,
   "metadata": {},
   "outputs": [
    {
     "name": "stdout",
     "output_type": "stream",
     "text": [
      "     ano  mes  Quantity\n",
      "0   2009   12    420088\n",
      "1   2010    1    375363\n",
      "2   2010    2    368402\n",
      "3   2010    3    489370\n",
      "4   2010    4    351971\n",
      "5   2010    5    364095\n",
      "6   2010    6    388253\n",
      "7   2010    7    302201\n",
      "8   2010    8    451803\n",
      "9   2010    9    478262\n",
      "10  2010   10    601729\n",
      "11  2010   11    673856\n",
      "12  2010   12    508876\n",
      "13  2011    1    308966\n",
      "14  2011    2    277989\n",
      "15  2011    3    351872\n",
      "16  2011    4    289098\n",
      "17  2011    5    380391\n",
      "18  2011    6    341623\n",
      "19  2011    7    391116\n",
      "20  2011    8    406199\n",
      "21  2011    9    549817\n",
      "22  2011   10    570532\n",
      "23  2011   11    740286\n",
      "24  2011   12    226334\n"
     ]
    }
   ],
   "source": [
    "# Total de vendas por ano\n",
    "transactions_by_year = transactions_filtered.groupby('ano', as_index=False)['Quantity'].sum()\n",
    "\n",
    "# Total de vendas por mês\n",
    "transactions_by_month = transactions_filtered.groupby(['ano','mes'], as_index=False)['Quantity'].sum()\n",
    "\n",
    "print(transactions_by_month)"
   ]
  },
  {
   "cell_type": "code",
   "execution_count": 28,
   "metadata": {},
   "outputs": [
    {
     "name": "stdout",
     "output_type": "stream",
     "text": [
      "      ano  mes  semana_mes  Quantity\n",
      "0    2009   12          49    136455\n",
      "1    2009   12          50    111826\n",
      "2    2009   12          51    133295\n",
      "3    2009   12          52     38512\n",
      "4    2010    1           1     92971\n",
      "..    ...  ...         ...       ...\n",
      "116  2011   11          46    179216\n",
      "117  2011   11          47    162568\n",
      "118  2011   11          48     85640\n",
      "119  2011   12          48     66167\n",
      "120  2011   12          49    160167\n",
      "\n",
      "[121 rows x 4 columns]\n"
     ]
    }
   ],
   "source": [
    "# Total de vendas semanal\n",
    "transactions_by_week = transactions_filtered.groupby(['ano', 'mes', 'semana_mes'], as_index=False)['Quantity'].sum()\n",
    "\n",
    "print(transactions_by_week)"
   ]
  },
  {
   "cell_type": "code",
   "execution_count": 35,
   "metadata": {},
   "outputs": [
    {
     "name": "stdout",
     "output_type": "stream",
     "text": [
      "      ano  mes  dia  Quantity\n",
      "0    2009   12    1     24022\n",
      "1    2009   12    2     29942\n",
      "2    2009   12    3     44896\n",
      "3    2009   12    4     21001\n",
      "4    2009   12    5      5033\n",
      "..    ...  ...  ...       ...\n",
      "599  2011   12    5     44119\n",
      "600  2011   12    6     29026\n",
      "601  2011   12    7     39612\n",
      "602  2011   12    8     34460\n",
      "603  2011   12    9     12950\n",
      "\n",
      "[604 rows x 4 columns]\n"
     ]
    }
   ],
   "source": [
    "# Transações vendidas por dia\n",
    "transactions_by_day = transactions_filtered.groupby(['ano', 'mes', 'dia'], as_index=False)['Quantity'].sum()\n",
    "\n",
    "print(transactions_by_day)"
   ]
  },
  {
   "cell_type": "code",
   "execution_count": null,
   "metadata": {},
   "outputs": [],
   "source": []
  }
 ],
 "metadata": {
  "kernelspec": {
   "display_name": "Python 3",
   "language": "python",
   "name": "python3"
  },
  "language_info": {
   "codemirror_mode": {
    "name": "ipython",
    "version": 3
   },
   "file_extension": ".py",
   "mimetype": "text/x-python",
   "name": "python",
   "nbconvert_exporter": "python",
   "pygments_lexer": "ipython3",
   "version": "3.8.0"
  }
 },
 "nbformat": 4,
 "nbformat_minor": 2
}
