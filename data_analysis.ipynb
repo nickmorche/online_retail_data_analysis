{
 "cells": [
  {
   "cell_type": "markdown",
   "metadata": {},
   "source": [
    "# Carregando os dados"
   ]
  },
  {
   "cell_type": "code",
   "execution_count": 2,
   "metadata": {},
   "outputs": [],
   "source": [
    "import pandas as pd"
   ]
  },
  {
   "cell_type": "code",
   "execution_count": 3,
   "metadata": {},
   "outputs": [
    {
     "name": "stdout",
     "output_type": "stream",
     "text": [
      "CPU times: total: 1min 58s\n",
      "Wall time: 2min 1s\n"
     ]
    }
   ],
   "source": [
    "%%time\n",
    "transactions_2009_2010 = pd.read_excel('../online_retail_II.xlsx',sheet_name=\"Year 2009-2010\", engine='openpyxl')\n",
    "transactions_2010_2011= pd.read_excel('../online_retail_II.xlsx',sheet_name=\"Year 2010-2011\", engine='openpyxl')"
   ]
  },
  {
   "cell_type": "code",
   "execution_count": 4,
   "metadata": {},
   "outputs": [
    {
     "name": "stdout",
     "output_type": "stream",
     "text": [
      "(1067371, 8)\n"
     ]
    }
   ],
   "source": [
    "# Concatenar os DataFrames (empilhar as linhas)\n",
    "transactions = pd.concat([transactions_2009_2010, transactions_2010_2011], ignore_index=True)\n",
    "\n",
    "# Exibir as primeiras linhas do DataFrame combinado\n",
    "print(transactions.shape)"
   ]
  },
  {
   "cell_type": "code",
   "execution_count": 5,
   "metadata": {},
   "outputs": [
    {
     "data": {
      "text/html": [
       "<div>\n",
       "<style scoped>\n",
       "    .dataframe tbody tr th:only-of-type {\n",
       "        vertical-align: middle;\n",
       "    }\n",
       "\n",
       "    .dataframe tbody tr th {\n",
       "        vertical-align: top;\n",
       "    }\n",
       "\n",
       "    .dataframe thead th {\n",
       "        text-align: right;\n",
       "    }\n",
       "</style>\n",
       "<table border=\"1\" class=\"dataframe\">\n",
       "  <thead>\n",
       "    <tr style=\"text-align: right;\">\n",
       "      <th></th>\n",
       "      <th>Invoice</th>\n",
       "      <th>StockCode</th>\n",
       "      <th>Description</th>\n",
       "      <th>Quantity</th>\n",
       "      <th>InvoiceDate</th>\n",
       "      <th>Price</th>\n",
       "      <th>Customer ID</th>\n",
       "      <th>Country</th>\n",
       "    </tr>\n",
       "  </thead>\n",
       "  <tbody>\n",
       "    <tr>\n",
       "      <th>0</th>\n",
       "      <td>489434</td>\n",
       "      <td>85048</td>\n",
       "      <td>15CM CHRISTMAS GLASS BALL 20 LIGHTS</td>\n",
       "      <td>12</td>\n",
       "      <td>2009-12-01 07:45:00</td>\n",
       "      <td>6.95</td>\n",
       "      <td>13085.0</td>\n",
       "      <td>United Kingdom</td>\n",
       "    </tr>\n",
       "    <tr>\n",
       "      <th>1</th>\n",
       "      <td>489434</td>\n",
       "      <td>79323P</td>\n",
       "      <td>PINK CHERRY LIGHTS</td>\n",
       "      <td>12</td>\n",
       "      <td>2009-12-01 07:45:00</td>\n",
       "      <td>6.75</td>\n",
       "      <td>13085.0</td>\n",
       "      <td>United Kingdom</td>\n",
       "    </tr>\n",
       "    <tr>\n",
       "      <th>2</th>\n",
       "      <td>489434</td>\n",
       "      <td>79323W</td>\n",
       "      <td>WHITE CHERRY LIGHTS</td>\n",
       "      <td>12</td>\n",
       "      <td>2009-12-01 07:45:00</td>\n",
       "      <td>6.75</td>\n",
       "      <td>13085.0</td>\n",
       "      <td>United Kingdom</td>\n",
       "    </tr>\n",
       "    <tr>\n",
       "      <th>3</th>\n",
       "      <td>489434</td>\n",
       "      <td>22041</td>\n",
       "      <td>RECORD FRAME 7\" SINGLE SIZE</td>\n",
       "      <td>48</td>\n",
       "      <td>2009-12-01 07:45:00</td>\n",
       "      <td>2.10</td>\n",
       "      <td>13085.0</td>\n",
       "      <td>United Kingdom</td>\n",
       "    </tr>\n",
       "    <tr>\n",
       "      <th>4</th>\n",
       "      <td>489434</td>\n",
       "      <td>21232</td>\n",
       "      <td>STRAWBERRY CERAMIC TRINKET BOX</td>\n",
       "      <td>24</td>\n",
       "      <td>2009-12-01 07:45:00</td>\n",
       "      <td>1.25</td>\n",
       "      <td>13085.0</td>\n",
       "      <td>United Kingdom</td>\n",
       "    </tr>\n",
       "  </tbody>\n",
       "</table>\n",
       "</div>"
      ],
      "text/plain": [
       "  Invoice StockCode                          Description  Quantity  \\\n",
       "0  489434     85048  15CM CHRISTMAS GLASS BALL 20 LIGHTS        12   \n",
       "1  489434    79323P                   PINK CHERRY LIGHTS        12   \n",
       "2  489434    79323W                  WHITE CHERRY LIGHTS        12   \n",
       "3  489434     22041         RECORD FRAME 7\" SINGLE SIZE         48   \n",
       "4  489434     21232       STRAWBERRY CERAMIC TRINKET BOX        24   \n",
       "\n",
       "          InvoiceDate  Price  Customer ID         Country  \n",
       "0 2009-12-01 07:45:00   6.95      13085.0  United Kingdom  \n",
       "1 2009-12-01 07:45:00   6.75      13085.0  United Kingdom  \n",
       "2 2009-12-01 07:45:00   6.75      13085.0  United Kingdom  \n",
       "3 2009-12-01 07:45:00   2.10      13085.0  United Kingdom  \n",
       "4 2009-12-01 07:45:00   1.25      13085.0  United Kingdom  "
      ]
     },
     "execution_count": 5,
     "metadata": {},
     "output_type": "execute_result"
    }
   ],
   "source": [
    "transactions.head()"
   ]
  },
  {
   "cell_type": "markdown",
   "metadata": {},
   "source": [
    "# Limpeza de Dados"
   ]
  },
  {
   "cell_type": "code",
   "execution_count": 23,
   "metadata": {},
   "outputs": [],
   "source": [
    "# Verificando valores ausentes\n",
    "transactions.isna().sum()\n",
    "\n",
    "transactions['isCancelled'] = transactions['Invoice'][0]\n",
    "\n",
    "# Verificando valores númericos\n",
    "transactions['Invoice'] = pd.to_numeric(transactions['Invoice'], errors='coerce')\n",
    "\n",
    "transactions['InvoiceDate'] = pd.to_datetime(transactions['InvoiceDate'])"
   ]
  },
  {
   "cell_type": "markdown",
   "metadata": {},
   "source": [
    "# Análise de Dados Básicos"
   ]
  },
  {
   "cell_type": "code",
   "execution_count": 24,
   "metadata": {},
   "outputs": [
    {
     "name": "stdout",
     "output_type": "stream",
     "text": [
      "                             Description  Quantity\n",
      "5388   WORLD WAR 2 GLIDERS ASSTD DESIGNS    108545\n",
      "5266  WHITE HANGING HEART T-LIGHT HOLDER     93050\n",
      "328        ASSORTED COLOUR BIRD ORNAMENT     81306\n",
      "2508             JUMBO BAG RED RETROSPOT     78090\n",
      "801                  BROCADE RING PURSE      70700\n",
      "3204  PACK OF 60 PINK PAISLEY CAKE CASES     56575\n",
      "168          60 TEATIME FAIRY CAKE CASES     54366\n",
      "4706                SMALL POPCORN HOLDER     49616\n",
      "3207     PACK OF 72 RETROSPOT CAKE CASES     49344\n",
      "3206    PACK OF 72 RETRO SPOT CAKE CASES     46106\n"
     ]
    }
   ],
   "source": [
    "# Adiciona a coluna ano\n",
    "transactions['ano'] = transactions['InvoiceDate'].dt.year\n",
    "\n",
    "# Remove as transações canceladas\n",
    "transactions_filtered = transactions[~transactions['Invoice'].astype(str).str.contains('C', na=False)]\n",
    "\n",
    "# Agrupoar por produto e somar as quantidades vendidas\n",
    "top_products = transactions_filtered.groupby('Description')['Quantity'].sum().reset_index()\n",
    "\n",
    "# Ordenar do mais vendido para o menos vendido\n",
    "top_products = top_products.sort_values(by='Quantity', ascending=False)\n",
    "\n",
    "# Mostra os 10 produtos mais vendidos nos 4 anos\n",
    "print(top_products.head(10))"
   ]
  },
  {
   "cell_type": "code",
   "execution_count": 28,
   "metadata": {},
   "outputs": [
    {
     "name": "stdout",
     "output_type": "stream",
     "text": [
      "         Invoice StockCode                          Description  Quantity  \\\n",
      "0       489434.0     85048  15CM CHRISTMAS GLASS BALL 20 LIGHTS        12   \n",
      "1       489434.0    79323P                   PINK CHERRY LIGHTS        12   \n",
      "2       489434.0    79323W                  WHITE CHERRY LIGHTS        12   \n",
      "3       489434.0     22041         RECORD FRAME 7\" SINGLE SIZE         48   \n",
      "4       489434.0     21232       STRAWBERRY CERAMIC TRINKET BOX        24   \n",
      "45228   493410.0   TEST001              This is a test product.         5   \n",
      "45229        NaN     21539              RETRO SPOTS BUTTER DISH        -1   \n",
      "45230   493412.0   TEST001              This is a test product.         5   \n",
      "45231   493413.0     21724      PANDA AND BUNNIES STICKER SHEET         1   \n",
      "45232   493413.0     84578       ELEPHANT TOY WITH BLUE T-SHIRT         1   \n",
      "567942  539993.0     22386              JUMBO BAG PINK POLKADOT        10   \n",
      "567943  539993.0     21499                   BLUE POLKADOT WRAP        25   \n",
      "567944  539993.0     21498                  RED RETROSPOT WRAP         25   \n",
      "567945  539993.0     22379             RECYCLING BAG RETROSPOT          5   \n",
      "567946  539993.0     20718            RED RETROSPOT SHOPPER BAG        10   \n",
      "\n",
      "               InvoiceDate  Price  Customer ID         Country   ano  \\\n",
      "0      2009-12-01 07:45:00   6.95      13085.0  United Kingdom  2009   \n",
      "1      2009-12-01 07:45:00   6.75      13085.0  United Kingdom  2009   \n",
      "2      2009-12-01 07:45:00   6.75      13085.0  United Kingdom  2009   \n",
      "3      2009-12-01 07:45:00   2.10      13085.0  United Kingdom  2009   \n",
      "4      2009-12-01 07:45:00   1.25      13085.0  United Kingdom  2009   \n",
      "45228  2010-01-04 09:24:00   4.50      12346.0  United Kingdom  2010   \n",
      "45229  2010-01-04 09:43:00   4.25      14590.0  United Kingdom  2010   \n",
      "45230  2010-01-04 09:53:00   4.50      12346.0  United Kingdom  2010   \n",
      "45231  2010-01-04 09:54:00   0.85          NaN  United Kingdom  2010   \n",
      "45232  2010-01-04 09:54:00   3.75          NaN  United Kingdom  2010   \n",
      "567942 2011-01-04 10:00:00   1.95      13313.0  United Kingdom  2011   \n",
      "567943 2011-01-04 10:00:00   0.42      13313.0  United Kingdom  2011   \n",
      "567944 2011-01-04 10:00:00   0.42      13313.0  United Kingdom  2011   \n",
      "567945 2011-01-04 10:00:00   2.10      13313.0  United Kingdom  2011   \n",
      "567946 2011-01-04 10:00:00   1.25      13313.0  United Kingdom  2011   \n",
      "\n",
      "        isCancelled  \n",
      "0            489434  \n",
      "1            489434  \n",
      "2            489434  \n",
      "3            489434  \n",
      "4            489434  \n",
      "45228        489434  \n",
      "45229        489434  \n",
      "45230        489434  \n",
      "45231        489434  \n",
      "45232        489434  \n",
      "567942       489434  \n",
      "567943       489434  \n",
      "567944       489434  \n",
      "567945       489434  \n",
      "567946       489434  \n"
     ]
    }
   ],
   "source": [
    "# Mostrar o total de vendas\n",
    "transactions_filtered['Invoice'].unique().shape[0]\n",
    "\n",
    "# Total de vendas por ano\n",
    "transactions_by_year = transactions_filtered.groupby('ano').head()\n",
    "print(transactions_by_year)\n"
   ]
  }
 ],
 "metadata": {
  "kernelspec": {
   "display_name": "Python 3",
   "language": "python",
   "name": "python3"
  },
  "language_info": {
   "codemirror_mode": {
    "name": "ipython",
    "version": 3
   },
   "file_extension": ".py",
   "mimetype": "text/x-python",
   "name": "python",
   "nbconvert_exporter": "python",
   "pygments_lexer": "ipython3",
   "version": "3.8.0"
  }
 },
 "nbformat": 4,
 "nbformat_minor": 2
}
